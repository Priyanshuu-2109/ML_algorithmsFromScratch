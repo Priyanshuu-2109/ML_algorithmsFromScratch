{
  "nbformat": 4,
  "nbformat_minor": 0,
  "metadata": {
    "colab": {
      "provenance": [],
      "authorship_tag": "ABX9TyMUh7iUZrS+d7XlYHbHGNoC",
      "include_colab_link": true
    },
    "kernelspec": {
      "name": "python3",
      "display_name": "Python 3"
    },
    "language_info": {
      "name": "python"
    }
  },
  "cells": [
    {
      "cell_type": "markdown",
      "metadata": {
        "id": "view-in-github",
        "colab_type": "text"
      },
      "source": [
        "<a href=\"https://colab.research.google.com/github/Priyanshuu-2109/ML_algorithmsFromScratch/blob/main/Principal_Component_Analysis.ipynb\" target=\"_parent\"><img src=\"https://colab.research.google.com/assets/colab-badge.svg\" alt=\"Open In Colab\"/></a>"
      ]
    },
    {
      "cell_type": "markdown",
      "source": [
        "#Importing libraries"
      ],
      "metadata": {
        "id": "I-U84qvKC-rB"
      }
    },
    {
      "cell_type": "code",
      "execution_count": 14,
      "metadata": {
        "id": "BbFo6hcAvoO3"
      },
      "outputs": [],
      "source": [
        "import matplotlib.pyplot as plt\n",
        "import numpy as np"
      ]
    },
    {
      "cell_type": "markdown",
      "source": [
        "#Defining custom covariance matrix with redundant features"
      ],
      "metadata": {
        "id": "ZJKrflUtCzig"
      }
    },
    {
      "cell_type": "code",
      "source": [
        "# Generate dataset such that few of the features are redundance and have low variance\n",
        "# Define a 10x10 Covariance Matrix\n",
        "covariance = np.array([\n",
        "    [1.0,  0.8,  0.2,  0.0,  0.0,  0.5,  0.1,  0.0,  0.0,  0.0], #important\n",
        "    [0.8,  1.0,  0.3,  0.0,  0.0,  0.6,  0.1,  0.0,  0.0,  0.0], #important\n",
        "    [0.2,  0.3,  1.0,  0.0,  0.0,  0.1,  0.7,  0.0,  0.0,  0.0], #important\n",
        "    [0.0,  0.0,  0.0,  1.0,  0.7,  0.0,  0.0,  0.3,  0.0,  0.0], #Corelated\n",
        "    [0.0,  0.0,  0.0,  0.7,  1.0,  0.0,  0.0,  0.3,  0.0,  0.0], #Corelated\n",
        "    [0.5,  0.6,  0.1,  0.0,  0.0,  1.0,  0.0,  0.0,  0.2,  0.0], #Important\n",
        "    [0.1,  0.1,  0.7,  0.0,  0.0,  0.0,  1.0,  0.0,  0.3,  0.0], #Corelated\n",
        "    [0.0,  0.0,  0.0,  0.3,  0.3,  0.0,  0.0,  0.5,  0.0,  0.0], #Corelated\n",
        "    [0.0,  0.0,  0.0,  0.0,  0.0,  0.2,  0.3,  0.0,  0.3,  0.0], #Corelated\n",
        "    [0.0,  0.0,  0.0,  0.0,  0.0,  0.0,  0.0,  0.0,  0.0,  0.2]  #redundant; low variance\n",
        "])\n",
        "\n",
        "mean = np.array([10,15,-6,5,2,1,99,69,39,5]) #Mean of the random data\n",
        "dataset = np.random.multivariate_normal(mean, covariance, 1000)"
      ],
      "metadata": {
        "id": "UQ_41AZZ0SvX"
      },
      "execution_count": 18,
      "outputs": []
    },
    {
      "cell_type": "markdown",
      "source": [
        "#Random Dataset creation"
      ],
      "metadata": {
        "id": "XzYMQwZCBz64"
      }
    },
    {
      "cell_type": "code",
      "source": [
        "# Creating a dataset. Dimension of dataset = 1000*10\n",
        "number_of_samples = 1000\n",
        "dataset = np.random.randint(-50,100,(1000,10)) # dataset of 1000 points each point is 10 in 10 dimensional space and values of coordinations is between -50 to 100\n",
        "dataset"
      ],
      "metadata": {
        "colab": {
          "base_uri": "https://localhost:8080/"
        },
        "id": "1B5QeJ3cwVKv",
        "outputId": "9ca40c7c-9d59-484f-eda2-a0d3f4cf56a7"
      },
      "execution_count": 3,
      "outputs": [
        {
          "output_type": "execute_result",
          "data": {
            "text/plain": [
              "array([[ 86,  40,  13, ...,  63,   1,  29],\n",
              "       [-49, -36,  57, ...,  64,  56,  94],\n",
              "       [ 62,  13,  38, ..., -12,  75,  57],\n",
              "       ...,\n",
              "       [ 46,  89,  -7, ..., -40, -50, -46],\n",
              "       [ 82,   9, -46, ..., -26, -14, -11],\n",
              "       [  7,  49, -24, ...,  42,  67, -38]])"
            ]
          },
          "metadata": {},
          "execution_count": 3
        }
      ]
    },
    {
      "cell_type": "markdown",
      "source": [
        "#Calculation of mean of data across each dimension"
      ],
      "metadata": {
        "id": "LYZcn9bYBrnv"
      }
    },
    {
      "cell_type": "code",
      "source": [
        "# Mean of each feature(column) in the dataset\n",
        "mean = np.mean(dataset, axis = 0)\n",
        "print(mean.shape)\n",
        "print(mean)"
      ],
      "metadata": {
        "colab": {
          "base_uri": "https://localhost:8080/"
        },
        "id": "Z3eXD7KbxUbj",
        "outputId": "446916dd-fb8a-4f9e-c496-6f7e26494a2e"
      },
      "execution_count": 19,
      "outputs": [
        {
          "output_type": "stream",
          "name": "stdout",
          "text": [
            "(10,)\n",
            "[10.00346659 15.01798301 -5.9930575   5.00828849  2.01188341  1.03678297\n",
            " 99.016488   69.01146789 39.01288435  5.00455187]\n"
          ]
        }
      ]
    },
    {
      "cell_type": "markdown",
      "source": [
        "#Centering the data (by subtracting the mean)"
      ],
      "metadata": {
        "id": "eHV-NnJwBkJR"
      }
    },
    {
      "cell_type": "code",
      "source": [
        "X_bar = dataset-mean\n",
        "print(X_bar)\n",
        "print(X_bar.shape)"
      ],
      "metadata": {
        "colab": {
          "base_uri": "https://localhost:8080/"
        },
        "id": "vG_LzTLaxki2",
        "outputId": "3d90507d-d13a-4f81-df1c-1e1cede7bcf1"
      },
      "execution_count": 20,
      "outputs": [
        {
          "output_type": "stream",
          "name": "stdout",
          "text": [
            "[[-8.96887048e-03 -7.26211258e-01  4.46013527e-01 ...  5.06209196e-02\n",
            "  -4.56288439e-01  7.10575928e-01]\n",
            " [-1.54419344e-03 -4.46513887e-01 -1.41977458e-01 ... -2.08826586e-01\n",
            "   5.93060737e-01  3.69373862e-01]\n",
            " [-3.67031240e-02  5.16680246e-01 -1.01310269e+00 ... -1.53338527e+00\n",
            "   1.85426681e-01  2.54215539e-01]\n",
            " ...\n",
            " [-9.53978775e-01 -1.68970847e+00  7.36373626e-01 ... -7.99202542e-01\n",
            "   2.75458274e-01 -2.54998551e-01]\n",
            " [-8.32653120e-02  1.48111587e-01  7.37619002e-01 ...  9.77153077e-01\n",
            "  -4.44168780e-02 -5.17298352e-01]\n",
            " [-1.82050645e-01 -6.98166410e-01 -8.46695160e-02 ... -2.34461106e-02\n",
            "  -5.50666157e-02  1.08060511e-01]]\n",
            "(1000, 10)\n"
          ]
        }
      ]
    },
    {
      "cell_type": "markdown",
      "source": [
        "#Calculation of covariance matrix"
      ],
      "metadata": {
        "id": "kqMi8vk1Bcd_"
      }
    },
    {
      "cell_type": "code",
      "source": [
        "covariance_matrix = X_bar.T @ X_bar\n",
        "print(covariance_matrix)\n",
        "print(covariance_matrix.shape) # Shape should be (number of features, number of features); 10*10 in our case"
      ],
      "metadata": {
        "colab": {
          "base_uri": "https://localhost:8080/"
        },
        "id": "36B_MaqYx44b",
        "outputId": "6907e04b-ff0f-4dba-a1ef-19e4934ff291"
      },
      "execution_count": 21,
      "outputs": [
        {
          "output_type": "stream",
          "name": "stdout",
          "text": [
            "[[ 986.25494194  781.14317371  228.09287928  -31.03177048  -13.29909518\n",
            "   473.01538138  105.59743707  -37.26951857   -7.89231387  -15.58463594]\n",
            " [ 781.14317371 1022.33799269  349.28616037   -3.75214247   44.26427011\n",
            "   595.33295479  105.82868459  -47.99269946  -25.28341519  -19.73500793]\n",
            " [ 228.09287928  349.28616037  967.7469978   -59.31676089  -53.2062256\n",
            "   100.98565057  680.9795393   -41.93574718   -4.70328714  -13.32591401]\n",
            " [ -31.03177048   -3.75214247  -59.31676089 1014.30612253  727.17510377\n",
            "     8.58482943  -61.21157119  292.11524497  -12.72172791    2.85591126]\n",
            " [ -13.29909518   44.26427011  -53.2062256   727.17510377 1041.52953211\n",
            "    42.26031011  -57.64551821  286.99265329   -7.35664717   11.77319982]\n",
            " [ 473.01538138  595.33295479  100.98565057    8.58482943   42.26031011\n",
            "  1051.67618394  -16.87369638  -25.01095646  208.95929416  -10.40670184]\n",
            " [ 105.59743707  105.82868459  680.9795393   -61.21157119  -57.64551821\n",
            "   -16.87369638  975.78692254  -46.46306889  290.31640163   -6.53121031]\n",
            " [ -37.26951857  -47.99269946  -41.93574718  292.11524497  286.99265329\n",
            "   -25.01095646  -46.46306889  495.02589154  -17.56078069   -5.0950717 ]\n",
            " [  -7.89231387  -25.28341519   -4.70328714  -12.72172791   -7.35664717\n",
            "   208.95929416  290.31640163  -17.56078069  303.93494446   -5.74212399]\n",
            " [ -15.58463594  -19.73500793  -13.32591401    2.85591126   11.77319982\n",
            "   -10.40670184   -6.53121031   -5.0950717    -5.74212399  201.55433814]]\n",
            "(10, 10)\n"
          ]
        }
      ]
    },
    {
      "cell_type": "markdown",
      "source": [
        "#Calculation of eigenvalues and eigenvectors of covariance matrix"
      ],
      "metadata": {
        "id": "4-Sg8JeeBUQm"
      }
    },
    {
      "cell_type": "code",
      "source": [
        "eigenvalues, eigenvectors = np.linalg.eig(covariance_matrix)\n",
        "print(eigenvalues)\n",
        "print(eigenvectors)\n",
        "print('Eigenvalues matrix shape - ',eigenvalues.shape) # Each dimension has a eigenvalue associated with it which gives the idea of the importance of that dimension in the data distribution. So size sould be 10*1\n",
        "print('Eigenvector matrix shape - ', eigenvectors.shape) # Eigen vector corresponding to each of the eigen values. Eigenvectors are arranged in column. Shape should be (No. of features * No. of features)\n"
      ],
      "metadata": {
        "colab": {
          "base_uri": "https://localhost:8080/"
        },
        "id": "7obyb2eVyVvB",
        "outputId": "850144c5-4519-4682-893c-7c5ae455c00d"
      },
      "execution_count": 22,
      "outputs": [
        {
          "output_type": "stream",
          "name": "stdout",
          "text": [
            "[2470.0425994  1908.90722335 1486.56958254  715.11175307   29.1910235\n",
            "  173.20809997  201.00769478  401.89469492  373.80548867  300.41570749]\n",
            "[[ 5.17314586e-01  9.22448294e-02  2.09098469e-01 -3.36180247e-01\n",
            "   6.07835520e-02  5.18858485e-01  8.71699904e-02 -5.28203484e-01\n",
            "  -8.17989991e-02 -3.06563455e-02]\n",
            " [ 5.67439560e-01  1.27461637e-01  1.80876779e-01 -2.58506117e-01\n",
            "   4.67944316e-02 -7.33360489e-01 -1.04147553e-01  6.93773116e-02\n",
            "   6.13450299e-02  5.28544519e-02]\n",
            " [ 3.63045780e-01 -1.30250604e-01 -5.43835218e-01 -2.02161734e-01\n",
            "   3.65335604e-01  2.62147491e-01  3.51086505e-02  5.56017189e-01\n",
            "  -1.27169332e-02 -4.31922206e-02]\n",
            " [-7.20861214e-02  6.36857451e-01 -2.03494474e-01 -1.28048701e-02\n",
            "   1.04615138e-03 -4.05054243e-02  2.51564007e-02 -4.42454289e-02\n",
            "   1.23472430e-01 -7.26749259e-01]\n",
            " [-4.74668632e-02  6.54001030e-01 -1.93851899e-01  3.41003958e-03\n",
            "   2.59988339e-03  1.04857497e-01 -3.99226122e-02  5.34050339e-03\n",
            "   2.66772436e-01  6.69811646e-01]\n",
            " [ 4.42978925e-01  1.52285544e-01  3.05069325e-01  6.73708966e-01\n",
            "  -2.50022974e-01  2.10357625e-01  4.55701878e-02  3.47346501e-01\n",
            "  -4.40295109e-02 -4.69155723e-02]\n",
            " [ 2.57353017e-01 -1.76100847e-01 -6.61204091e-01  2.21526246e-01\n",
            "  -5.04562033e-01 -1.39062790e-01 -2.07499789e-03 -3.76253561e-01\n",
            "  -1.22394175e-02  2.91724632e-02]\n",
            " [-6.10611396e-02  2.64826234e-01 -8.44909470e-02 -2.60120329e-02\n",
            "   4.65632937e-03 -8.56924724e-02  3.10858475e-02  3.16861957e-02\n",
            "  -9.47589145e-01  1.05180056e-01]\n",
            " [ 6.90449759e-02 -2.50623306e-02 -1.06860717e-01  5.24849737e-01\n",
            "   7.36654047e-01 -1.44240468e-01 -4.33628989e-02 -3.76596425e-01\n",
            "  -1.14145096e-02  2.04502829e-02]\n",
            " [-1.37709944e-02  3.31572157e-03 -1.99883807e-04  3.30886561e-03\n",
            "   2.93680828e-02 -1.40974724e-01  9.86492668e-01  1.16528366e-03\n",
            "   5.31708355e-02  5.52787469e-02]]\n",
            "Eigenvalues matrix shape -  (10,)\n",
            "Eigenvector matrix shape -  (10, 10)\n"
          ]
        }
      ]
    },
    {
      "cell_type": "markdown",
      "source": [
        "#Sorting and visualizing magnitude of eigen values graphically"
      ],
      "metadata": {
        "id": "q2RIqr4IAzE_"
      }
    },
    {
      "cell_type": "code",
      "source": [
        "#Sorting the eigen values in descending order and plotting the eigen values for visualization\n",
        "\n",
        "sorted_indices = np.argsort(eigenvalues)[::-1] # returns the indices of eigen values in sorted order\n",
        "sorted_eigenvalues = eigenvalues[sorted_indices] # rearranges all the eigenvalues in the decreasing order. (this is required if we want to drop the lower order dimensions where the variation is less).\n",
        "sorted_eigenvectors = eigenvectors[:, sorted_indices] # rearranges all the eigen vectors (columns) according to the magnitude of eigen values\n",
        "\n",
        "plt.bar([\"e\" + str(i+1) for i in range(len(eigenvalues))], sorted_eigenvalues)\n",
        "plt.title(\"Eigenvalues\")\n",
        "plt.xlabel(\"Magnitude of the eigenvalue\")\n"
      ],
      "metadata": {
        "colab": {
          "base_uri": "https://localhost:8080/",
          "height": 489
        },
        "id": "PJtez429zZkV",
        "outputId": "b3be4088-c20a-4657-ecd9-6a3970675757"
      },
      "execution_count": 25,
      "outputs": [
        {
          "output_type": "execute_result",
          "data": {
            "text/plain": [
              "Text(0.5, 0, 'Magnitude of the eigenvalue')"
            ]
          },
          "metadata": {},
          "execution_count": 25
        },
        {
          "output_type": "display_data",
          "data": {
            "text/plain": [
              "<Figure size 640x480 with 1 Axes>"
            ],
            "image/png": "[encoded data removed]"
          },
          "metadata": {}
        }
      ]
    },
    {
      "cell_type": "markdown",
      "source": [
        "#Analysing information content in each dimension"
      ],
      "metadata": {
        "id": "jz7yK0DPAa7N"
      }
    },
    {
      "cell_type": "code",
      "source": [
        "# How much information content is preserved if we drop last few columns - Comparison\n",
        "sum = np.sum(sorted_eigenvalues)\n",
        "curr = sum\n",
        "for i in range(len(sorted_eigenvalues)-1,0,-1):\n",
        "  curr = curr - sorted_eigenvalues[i]\n",
        "  print('On retaining only first',str(i),'features, information content preserved = ',curr/sum*100)\n",
        "\n"
      ],
      "metadata": {
        "colab": {
          "base_uri": "https://localhost:8080/"
        },
        "id": "sHX-R6ej3nGo",
        "outputId": "3a4a53cd-756d-44a8-e4ac-90f689d14bf9"
      },
      "execution_count": 28,
      "outputs": [
        {
          "output_type": "stream",
          "name": "stdout",
          "text": [
            "On retaining only first 9 features, information content preserved =  99.63783540642083\n",
            "On retaining only first 8 features, information content preserved =  97.48889255975101\n",
            "On retaining only first 7 features, information content preserved =  94.99504817317799\n",
            "On retaining only first 6 features, information content preserved =  91.26787729747501\n",
            "On retaining only first 5 features, information content preserved =  86.63018061315341\n",
            "On retaining only first 4 features, information content preserved =  81.64398926353228\n",
            "On retaining only first 3 features, information content preserved =  72.77180437961904\n",
            "On retaining only first 2 features, information content preserved =  54.328365123418756\n",
            "On retaining only first 1 features, information content preserved =  30.645104795041423\n"
          ]
        }
      ]
    },
    {
      "cell_type": "markdown",
      "source": [
        "# Dropping the dimensions in which less variation is there"
      ],
      "metadata": {
        "id": "Nymm4WEVAIIu"
      }
    },
    {
      "cell_type": "code",
      "source": [
        "# Observation - 91% information of dataset distruibution can be explained only in terms of first 4 features. (I am okay with if my data is only 90 percent accurate but i am able to reduce the computation)\n",
        "#Retaining only the first 4 features and dropping the last 6 eignvalues and eigen vextors\n",
        "\n",
        "principal_eigenvalues = sorted_eigenvalues[:4]\n",
        "principal_eigenvectors = sorted_eigenvectors[:,:4]\n",
        "\n",
        "print(principal_eigenvalues.shape)\n",
        "print(principal_eigenvectors.shape)\n"
      ],
      "metadata": {
        "colab": {
          "base_uri": "https://localhost:8080/"
        },
        "id": "kjHBH73M5UVu",
        "outputId": "ef50ef89-5da2-4352-da39-0775010d59d3"
      },
      "execution_count": 30,
      "outputs": [
        {
          "output_type": "stream",
          "name": "stdout",
          "text": [
            "(4,)\n",
            "(10, 4)\n"
          ]
        }
      ]
    },
    {
      "cell_type": "markdown",
      "source": [
        "# Projecting the 10 dimensional data to the 4 dimensional space"
      ],
      "metadata": {
        "id": "Fg9eKyyE_33T"
      }
    },
    {
      "cell_type": "code",
      "source": [
        "# Projecting the data on the 4 dimensional space\n",
        "projected_data = np.dot(X_bar, principal_eigenvectors)\n",
        "print(projected_data.shape) # each 10 dimensional point should get mapped to a corresponding 4 dimensional point. so shape should be (Number of data samples, 4)\n",
        "print(projected_data)"
      ],
      "metadata": {
        "colab": {
          "base_uri": "https://localhost:8080/"
        },
        "id": "oMCD-LG267vl",
        "outputId": "4fe812f1-6e55-496e-f40a-c17ce5c80fcb"
      },
      "execution_count": 33,
      "outputs": [
        {
          "output_type": "stream",
          "name": "stdout",
          "text": [
            "(1000, 4)\n",
            "[[-1.05397593 -1.69259065 -0.69643241 -1.47885315]\n",
            " [ 0.00750143 -0.69121907  0.24137243  0.78275595]\n",
            " [-0.03547046  1.58483936  0.68193722  0.44279649]\n",
            " ...\n",
            " [-1.33206561 -0.90724352 -1.78993426  0.29763021]\n",
            " [ 0.30556359  0.78626222 -0.15798887  0.01609508]\n",
            " [-0.17481836 -1.19083641  0.64795239  0.62122001]]\n"
          ]
        }
      ]
    },
    {
      "cell_type": "markdown",
      "source": [
        "#Reconstructing the data back to 10 dimensional space (optional)"
      ],
      "metadata": {
        "id": "j1lnN-tD_mNb"
      }
    },
    {
      "cell_type": "code",
      "source": [
        "# Reconstructing the data back -\n",
        "reconstructed_data = np.dot(projected_data, principal_eigenvectors.T) + mean #mean should be added. dont forget it\n",
        "print(reconstructed_data.shape)\n",
        "print(reconstructed_data)\n",
        "\n",
        "#difference between original data and reconstructed data\n",
        "\n",
        "difference = dataset - reconstructed_data\n",
        "print(difference.shape)\n",
        "print(difference) #difference of each individual coordinate is much smaller than the magnitide of the original cordinate (~10% error in each value). So, most of the data is retained"
      ],
      "metadata": {
        "colab": {
          "base_uri": "https://localhost:8080/"
        },
        "id": "IzVCYgx67dGN",
        "outputId": "b714ca1c-051a-4584-964c-f76c9e7f80a5"
      },
      "execution_count": 34,
      "outputs": [
        {
          "output_type": "stream",
          "name": "stdout",
          "text": [
            "(1000, 10)\n",
            "[[ 9.65363499 14.46049913 -5.47752608 ... 68.72489266 38.28077845\n",
            "   5.00869988]\n",
            " [ 9.73090932 14.77544717 -6.18981257 ... 68.78720204 39.41576187\n",
            "   5.00469846]\n",
            " [10.12504303 15.20874289 -6.67273917 ... 69.36420523 39.13024485\n",
            "   5.01162406]\n",
            " ...\n",
            " [ 8.75635118 13.74578077 -5.44522943 ... 68.99603472 39.29113434\n",
            "   5.02123017]\n",
            " [10.19562163 15.25885296 -5.90186896 ... 69.21396265 39.03960672\n",
            "   5.00303582]\n",
            " [ 9.72982595 14.72360857 -6.37938365 ... 68.63587247 39.28746566\n",
            "   5.00493683]]\n",
            "(1000, 10)\n",
            "[[ 0.34086272 -0.16872738 -0.0695179  ...  0.33719614  0.27581746\n",
            "   0.70642791]\n",
            " [ 0.27101307 -0.20397805  0.05477761 ...  0.01543926  0.19018322\n",
            "   0.36922727]\n",
            " [-0.15827957  0.32592037 -0.33342103 ... -1.88612261  0.06806618\n",
            "   0.24714334]\n",
            " ...\n",
            " [ 0.29313663 -0.41750623  0.18854556 ... -0.78376938 -0.00279172\n",
            "  -0.27167685]\n",
            " [-0.27542036 -0.09275836  0.64643046 ...  0.77465831 -0.07113925\n",
            "  -0.5157823 ]\n",
            " [ 0.09158999 -0.40379197  0.30165663 ...  0.35214931 -0.32964792\n",
            "   0.10767555]]\n"
          ]
        }
      ]
    },
    {
      "cell_type": "markdown",
      "source": [
        "#Verification to check if the manual implementation of PCA is correct or not\n",
        "\n",
        "\n"
      ],
      "metadata": {
        "id": "94LRCZvA_RVr"
      }
    },
    {
      "cell_type": "code",
      "source": [
        "#Using built in function -\n",
        "from sklearn.decomposition import PCA\n",
        "\n",
        "# Apply PCA to reduce dimensions\n",
        "pca = PCA(n_components=4)  # Change to desired dimension\n",
        "X_pca = pca.fit_transform(X_bar)\n",
        "\n",
        "# Print results\n",
        "print(\"Original shape:\", X_bar.shape)\n",
        "print(\"Transformed shape:\", X_pca.shape)\n",
        "print(X_pca-projected_data) #all the values should be very small ~0 if the manual implementation is correct\n",
        "print(\"Explained variance ratio:\", pca.explained_variance_ratio_)\n",
        "print(\"Cumulative explained variance:\", np.cumsum(pca.explained_variance_ratio_))\n"
      ],
      "metadata": {
        "colab": {
          "base_uri": "https://localhost:8080/"
        },
        "id": "JaScaqAG-V1X",
        "outputId": "38460b8d-f770-41f3-eab3-458e4398e930"
      },
      "execution_count": 37,
      "outputs": [
        {
          "output_type": "stream",
          "name": "stdout",
          "text": [
            "Original shape: (1000, 10)\n",
            "Transformed shape: (1000, 4)\n",
            "[[-6.21724894e-15  9.76996262e-15  1.39286481e+00  7.32747196e-15]\n",
            " [-6.23459617e-15  3.88578059e-15 -4.82744863e-01  5.77315973e-15]\n",
            " [-5.71070968e-15  2.44249065e-15 -1.36387443e+00  8.32667268e-15]\n",
            " ...\n",
            " [-7.54951657e-15  1.02140518e-14  3.57986852e+00  5.88418203e-15]\n",
            " [-6.21724894e-15  4.99600361e-15  3.15977738e-01  5.41580669e-15]\n",
            " [-6.35602682e-15  3.33066907e-15 -1.29590477e+00  6.66133815e-15]]\n",
            "Explained variance ratio: [0.30645105 0.2368326  0.18443439 0.08872185]\n",
            "Cumulative explained variance: [0.30645105 0.54328365 0.72771804 0.81643989]\n"
          ]
        }
      ]
    }
  ]
}